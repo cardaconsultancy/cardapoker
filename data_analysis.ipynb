{
 "cells": [
  {
   "cell_type": "code",
   "execution_count": 1,
   "id": "407c0ea7-3afd-46c3-ba00-93a9e7d8f5a3",
   "metadata": {},
   "outputs": [
    {
     "name": "stdout",
     "output_type": "stream",
     "text": [
      "{'always_fold': 2293, 'aggressive': 2055, 'super_aggressive': 1063, 'careful_calculator': 1760, 'conservative': 1400, 'raises_with_aces_reduces_with_12345': 1428}\n"
     ]
    }
   ],
   "source": [
    "def process_scores(data):\n",
    "    # Dictionary to store the resulting scores after modifications\n",
    "    resulting_scores = {}\n",
    "\n",
    "    # Loop through each item in the input dictionary\n",
    "    for key, value in data.items():\n",
    "        # Remove the last two characters from the key\n",
    "        new_key = key[:-2]\n",
    "\n",
    "        # Add the value to the existing value for the new_key or create new entry if not present\n",
    "        if new_key in resulting_scores:\n",
    "            resulting_scores[new_key] += value\n",
    "        else:\n",
    "            resulting_scores[new_key] = value\n",
    "\n",
    "    return resulting_scores\n",
    "\n",
    "# Input dictionary with keys and values\n",
    "data = {\n",
    "    'always_fold_A': 1103, 'aggressive_A': 795, 'always_fold_B': 610, 'aggressive_B': 510,\n",
    "    'super_aggressive_A': 441, 'careful_calculator_A': 393, 'careful_calculator_B': 363,\n",
    "    'aggressive_C': 347, 'conservative_A': 344, 'raises_with_aces_reduces_with_12345_A': 343,\n",
    "    'careful_calculator_C': 340, 'always_fold_C': 328, 'careful_calculator_D': 286,\n",
    "    'conservative_B': 282, 'raises_with_aces_reduces_with_12345_C': 273,\n",
    "    'raises_with_aces_reduces_with_12345_B': 264, 'super_aggressive_B': 253,\n",
    "    'conservative_C': 242, 'raises_with_aces_reduces_with_12345_D': 229,\n",
    "    'aggressive_D': 224, 'conservative_D': 207, 'careful_calculator_E': 192,\n",
    "    'careful_calculator_F': 186, 'conservative_E': 183, 'raises_with_aces_reduces_with_12345_E': 183,\n",
    "    'always_fold_D': 181, 'super_aggressive_C': 179, 'conservative_F': 142,\n",
    "    'raises_with_aces_reduces_with_12345_F': 136, 'aggressive_E': 125,\n",
    "    'super_aggressive_D': 86, 'always_fold_E': 71, 'super_aggressive_E': 61,\n",
    "    'aggressive_F': 54, 'super_aggressive_F': 43\n",
    "}\n",
    "\n",
    "# Process the data and print the resulting scores\n",
    "resulting_scores = process_scores(data)\n",
    "print(resulting_scores)\n"
   ]
  },
  {
   "cell_type": "code",
   "execution_count": null,
   "id": "be143244-1669-4c86-af4b-cbc3fa4c545a",
   "metadata": {},
   "outputs": [],
   "source": []
  }
 ],
 "metadata": {
  "kernelspec": {
   "display_name": "poetryBasicKernel",
   "language": "python",
   "name": "poetrybasickernel"
  },
  "language_info": {
   "codemirror_mode": {
    "name": "ipython",
    "version": 3
   },
   "file_extension": ".py",
   "mimetype": "text/x-python",
   "name": "python",
   "nbconvert_exporter": "python",
   "pygments_lexer": "ipython3",
   "version": "3.10.10"
  }
 },
 "nbformat": 4,
 "nbformat_minor": 5
}
